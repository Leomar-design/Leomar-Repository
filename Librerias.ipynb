{
 "cells": [
  {
   "cell_type": "markdown",
   "metadata": {},
   "source": [
    "-Librerías en python\n",
    "\n",
    "math: Proporciona funciones matemáticas básicas. \n",
    "\n",
    "Ejemplo: calcular la raíz cuadrada de un número."
   ]
  },
  {
   "cell_type": "code",
   "execution_count": 3,
   "metadata": {},
   "outputs": [
    {
     "name": "stdout",
     "output_type": "stream",
     "text": [
      "4.0\n"
     ]
    }
   ],
   "source": [
    "import math\n",
    "resultado = math.sqrt(16)  # resultado será 4.0\n",
    "print (resultado)"
   ]
  },
  {
   "cell_type": "markdown",
   "metadata": {},
   "source": [
    "pandas: Facilita la manipulación y análisis de datos en estructuras como DataFrames. \n",
    "\n",
    "\n",
    "Ejemplo: leer un archivo CSV y realizar operaciones sobre los datos."
   ]
  },
  {
   "cell_type": "code",
   "execution_count": null,
   "metadata": {},
   "outputs": [],
   "source": [
    "import pandas as pd\n",
    "df = pd.read_csv('datos.csv')  # Cargar datos desde un archivo CSV\n",
    "print(\"Las primeras filas del DataFrame son:\\n\", df.head())"
   ]
  },
  {
   "cell_type": "markdown",
   "metadata": {},
   "source": [
    "tensorflow: Usada para construir y entrenar modelos de aprendizaje profundo. \n",
    "\n",
    "\n",
    "Ejemplo: crear una red neuronal simple para clasificación."
   ]
  },
  {
   "cell_type": "code",
   "execution_count": null,
   "metadata": {},
   "outputs": [],
   "source": [
    "import tensorflow as tf\n",
    "modelo = tf.keras.Sequential([\n",
    "tf.keras.layers.Dense(10, activation='relu', input_shape=(input_dim,)),\n",
    "    tf.keras.layers.Dense(1, activation='sigmoid')\n",
    "])\n",
    "print(\"Modelo de red neuronal creado:\\n\", modelo.summary())"
   ]
  },
  {
   "cell_type": "markdown",
   "metadata": {},
   "source": [
    "pytorch: Similar a TensorFlow, es una biblioteca para el aprendizaje profundo que permite la creación de redes neuronales dinámicas.\n",
    "\n",
    "Ejemplo: Implementar un modelo de regresión."
   ]
  },
  {
   "cell_type": "code",
   "execution_count": null,
   "metadata": {},
   "outputs": [],
   "source": [
    "import torch\n",
    "modelo = torch.nn.Linear(1, 1)  # Modelo de regresión lineal\n",
    "print(\"Modelo de regresión lineal creado:\\n\", modelo)"
   ]
  },
  {
   "cell_type": "markdown",
   "metadata": {},
   "source": [
    "matplotlib: Utilizada para la visualización de datos en gráficos.\n",
    "\n",
    "Ejemplo: Crear un gráfico de líneas a partir de datos."
   ]
  },
  {
   "cell_type": "code",
   "execution_count": null,
   "metadata": {},
   "outputs": [],
   "source": [
    "import matplotlib.plypot as plt\n",
    "plt.plot([1, 2, 3], [4, 5, 6])  # Crear un gráfico de líneas\n",
    "plt.title(\"Gráfico de líneas\")\n",
    "plt.xlabel(\"Eje X\")\n",
    "plt.ylabel(\"Eje Y\")\n",
    "plt.show()\n",
    "print(\"Gráfico de líneas mostrado.\")"
   ]
  },
  {
   "cell_type": "markdown",
   "metadata": {},
   "source": [
    "seaborn: Basada en Matplotlib, se usa para hacer visualizaciones estadísticas más atractivas.\n",
    "\n",
    "Ejemplo: Crear un gráfico de dispersión con regresión."
   ]
  },
  {
   "cell_type": "code",
   "execution_count": null,
   "metadata": {},
   "outputs": [],
   "source": [
    "import seaborn as sns\n",
    "import pandas as pd\n",
    "# Crear un DataFrame de ejemplo\n",
    "df = pd.DataFrame({\n",
    "    'variable_x': [1, 2, 3, 4, 5],\n",
    "    'variable_y': [2, 3, 5, 7, 11]\n",
    "})\n",
    "sns.regplot(x='variable_x', y='variable_y', data=df)  # Gráfico de dispersión con línea de regresión\n",
    "plt.title(\"Gráfico de dispersión con regresión\")\n",
    "plt.show()\n",
    "print(\"Gráfico de dispersión mostrado.\")"
   ]
  },
  {
   "cell_type": "markdown",
   "metadata": {},
   "source": [
    "scikit-learn: Proporciona herramientas para el aprendizaje automático y análisis de datos.\n",
    "\n",
    "Ejemplo: Entrenar un modelo de clasificación con un conjunto de datos."
   ]
  },
  {
   "cell_type": "code",
   "execution_count": null,
   "metadata": {},
   "outputs": [],
   "source": [
    "from sklearn.model_selection import train_test_split\n",
    "from sklearn.ensemble import RandomForestClassifier\n",
    "from sklearn.datasets import load_iris\n",
    "# Cargar un conjunto de datos de ejemplo\n",
    "iris = load_iris()\n",
    "X, y = iris.data, iris.target\n",
    "X_train, X_test, y_train, y_test = train_test_split(X, y, test_size=0.2)\n",
    "modelo = RandomForestClassifier()\n",
    "modelo.fit(X_train, y_train)  # Entrenar el modelo\n",
    "print(\"Modelo de clasificación entrenado.\")\n",
    "print(\"Predicciones en el conjunto de prueba:\", modelo.predict(X_test))"
   ]
  }
 ],
 "metadata": {
  "kernelspec": {
   "display_name": "Python 3",
   "language": "python",
   "name": "python3"
  },
  "language_info": {
   "codemirror_mode": {
    "name": "ipython",
    "version": 3
   },
   "file_extension": ".py",
   "mimetype": "text/x-python",
   "name": "python",
   "nbconvert_exporter": "python",
   "pygments_lexer": "ipython3",
   "version": "3.13.3"
  }
 },
 "nbformat": 4,
 "nbformat_minor": 2
}
